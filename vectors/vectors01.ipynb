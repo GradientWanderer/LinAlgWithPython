{
 "cells": [
  {
   "cell_type": "markdown",
   "id": "5bedd99d",
   "metadata": {},
   "source": [
    "### Vectors\n",
    "\n",
    "Characteristics:\n",
    " - Dimensionality - number of numbers in a vector\n",
    " - Oreintation - is the vector row or col oriented\n",
    "    * Generally assumed to be in col form unless specified\n",
    "    * Row form vectors are written as w^T where T = transpose"
   ]
  },
  {
   "cell_type": "markdown",
   "id": "bd781239",
   "metadata": {},
   "source": [
    "Dimensions are MxN or (M, N) where M = row and N = col"
   ]
  },
  {
   "cell_type": "code",
   "execution_count": 7,
   "id": "ba5c6245",
   "metadata": {},
   "outputs": [
    {
     "name": "stdout",
     "output_type": "stream",
     "text": [
      "[1 2 3 4] \n",
      " (4,) \n",
      "\n",
      "\n",
      "[[1 2 3 4]] \n",
      " (1, 4) \n",
      "\n",
      "\n",
      "[[1]\n",
      " [2]\n",
      " [3]\n",
      " [4]] \n",
      " (4, 1) \n",
      "\n",
      "\n"
     ]
    }
   ],
   "source": [
    "import numpy as np\n",
    "\n",
    "\n",
    "asList = [1,2,3,4]\n",
    "\n",
    "asArray = np.array(asList)\n",
    "print(asArray, '\\n', asArray.shape, '\\n\\n')\n",
    "\n",
    "rowVec = np.array([asList])\n",
    "print(rowVec, '\\n', rowVec.shape, '\\n\\n')\n",
    "\n",
    "colVec = np.array([ [i] for i in asList])\n",
    "print(colVec, '\\n', colVec.shape, '\\n\\n')"
   ]
  },
  {
   "cell_type": "code",
   "execution_count": 36,
   "id": "c9bcb0ee",
   "metadata": {},
   "outputs": [
    {
     "name": "stdout",
     "output_type": "stream",
     "text": [
      "[[5 6 7]\n",
      " [6 7 8]\n",
      " [7 8 9]] \n",
      "\n",
      "[10 20 30] \n",
      "\n",
      "[3.  4.5 6. ] \n",
      "\n",
      "(3,) (3,)\n"
     ]
    }
   ],
   "source": [
    "# Vector Operations\n",
    "\n",
    "x = np.arange(0, 10)\n",
    "x_reshaped = x.reshape((10, 1))\n",
    "\n",
    "y = np.arange(10, 20)\n",
    "y_reshaped = y.reshape((10, 1))\n",
    "\n",
    "# print(x, y)\n",
    "\n",
    "# Addition\n",
    "# print(x_reshaped + y_reshaped)\n",
    "\n",
    "# Subtraction\n",
    "# print(x_reshaped - y_reshaped)\n",
    "\n",
    "arrA = np.array([1,2,3])\n",
    "arrB = np.array([4,5,6])\n",
    "arrBCol = arrB.reshape((3,1))\n",
    "\n",
    "# Broadcasting -> More Detail Later\n",
    "print(arrA + arrBCol, '\\n')\n",
    "\n",
    "# Vector - Scalar Oprations\n",
    "sample_scalar = 10\n",
    "print(sample_scalar * arrA, '\\n')\n",
    "\n",
    "\n",
    "# Vector Averaging\n",
    "print(arrA + arrB * 0.5, '\\n')\n",
    "\n",
    "# Transposing\n",
    "print(arrA.T.shape, arrA.shape)"
   ]
  },
  {
   "cell_type": "code",
   "execution_count": null,
   "id": "434ae388",
   "metadata": {},
   "outputs": [],
   "source": []
  }
 ],
 "metadata": {
  "kernelspec": {
   "display_name": ".venv",
   "language": "python",
   "name": "python3"
  },
  "language_info": {
   "codemirror_mode": {
    "name": "ipython",
    "version": 3
   },
   "file_extension": ".py",
   "mimetype": "text/x-python",
   "name": "python",
   "nbconvert_exporter": "python",
   "pygments_lexer": "ipython3",
   "version": "3.9.6"
  }
 },
 "nbformat": 4,
 "nbformat_minor": 5
}
