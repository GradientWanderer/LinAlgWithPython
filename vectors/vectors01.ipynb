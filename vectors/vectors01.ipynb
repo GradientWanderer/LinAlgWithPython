{
 "cells": [
  {
   "cell_type": "markdown",
   "id": "5bedd99d",
   "metadata": {},
   "source": [
    "### Vectors\n",
    "\n",
    "Characteristics:\n",
    " - Dimensionality - number of numbers in a vector\n",
    " - Oreintation - is the vector row or col oriented\n",
    "    * Generally assumed to be in col form unless specified\n",
    "    * Row form vectors are written as w^T where T = transpose"
   ]
  },
  {
   "cell_type": "markdown",
   "id": "bd781239",
   "metadata": {},
   "source": [
    "Dimensions are MxN or (M, N) where M = row and N = col"
   ]
  },
  {
   "cell_type": "code",
   "execution_count": 7,
   "id": "ba5c6245",
   "metadata": {},
   "outputs": [
    {
     "name": "stdout",
     "output_type": "stream",
     "text": [
      "[1 2 3 4] \n",
      " (4,) \n",
      "\n",
      "\n",
      "[[1 2 3 4]] \n",
      " (1, 4) \n",
      "\n",
      "\n",
      "[[1]\n",
      " [2]\n",
      " [3]\n",
      " [4]] \n",
      " (4, 1) \n",
      "\n",
      "\n"
     ]
    }
   ],
   "source": [
    "import numpy as np\n",
    "\n",
    "\n",
    "asList = [1,2,3,4]\n",
    "\n",
    "asArray = np.array(asList)\n",
    "print(asArray, '\\n', asArray.shape, '\\n\\n')\n",
    "\n",
    "rowVec = np.array([asList])\n",
    "print(rowVec, '\\n', rowVec.shape, '\\n\\n')\n",
    "\n",
    "colVec = np.array([ [i] for i in asList])\n",
    "print(colVec, '\\n', colVec.shape, '\\n\\n')"
   ]
  },
  {
   "cell_type": "code",
   "execution_count": 47,
   "id": "c9bcb0ee",
   "metadata": {},
   "outputs": [
    {
     "name": "stdout",
     "output_type": "stream",
     "text": [
      "[[5 6 7]\n",
      " [6 7 8]\n",
      " [7 8 9]] \n",
      "\n",
      "[[1 2 3]]\n",
      "+\n",
      "[[10]\n",
      " [20]]\n",
      "=__________________\n",
      " [[11 12 13]\n",
      " [21 22 23]] \n",
      "\n",
      "[10 20 30] \n",
      "\n",
      "[3.  4.5 6. ] \n",
      "\n",
      "(3,) (3,)\n",
      "arrC Norm = 3.7416573867739413\n"
     ]
    }
   ],
   "source": [
    "# Vector Operations\n",
    "\n",
    "x = np.arange(0, 10)\n",
    "x_reshaped = x.reshape((10, 1))\n",
    "\n",
    "y = np.arange(10, 20)\n",
    "y_reshaped = y.reshape((10, 1))\n",
    "\n",
    "# print(x, y)\n",
    "\n",
    "# Addition\n",
    "# print(x_reshaped + y_reshaped)\n",
    "\n",
    "# Subtraction\n",
    "# print(x_reshaped - y_reshaped)\n",
    "\n",
    "arrA = np.array([1,2,3])\n",
    "arrB = np.array([4,5,6])\n",
    "arrBCol = arrB.reshape((3,1))\n",
    "\n",
    "# Broadcasting -> More Detail Later -> highly recommend this read https://www.alcala21.org/post/broadcasting/ and https://realpython.com/numpy-array-programming/\n",
    "print(arrA + arrBCol, '\\n')\n",
    "\n",
    "arrC = np.array([[1,2,3]])\n",
    "arrD = np.array([[10,20]]).T\n",
    "print(f\"{arrC}\\n+\\n{arrD}\\n=__________________\\n\", arrC + arrD,'\\n')\n",
    "\n",
    "\n",
    "# Vector - Scalar Operations\n",
    "sample_scalar = 10\n",
    "print(sample_scalar * arrA, '\\n')\n",
    "\n",
    "\n",
    "# Vector Averaging\n",
    "print(arrA + arrB * 0.5, '\\n')\n",
    "\n",
    "# Transposing\n",
    "print(arrA.T.shape, arrA.shape)\n",
    "\n",
    "\n",
    "# Norm -- See Notes on Norms below\n",
    "print(f\"arrC Norm = {np.linalg.norm(arrC)}\")"
   ]
  },
  {
   "cell_type": "code",
   "execution_count": 48,
   "id": "434ae388",
   "metadata": {},
   "outputs": [
    {
     "name": "stdout",
     "output_type": "stream",
     "text": [
      "Original 1D array: [1 2 3], Shape: (3,)\n",
      "Column vector (using newaxis): [[1]\n",
      " [2]\n",
      " [3]], Shape: (3, 1)\n",
      "Row vector (transposed from column): [[1 2 3]], Shape: (1, 3)\n",
      "Original 2D row vector: [[1 2 3]], Shape: (1, 3)\n",
      "Transposed using .T: [[1]\n",
      " [2]\n",
      " [3]], Shape: (3, 1)\n",
      "Transposed using np.transpose(): [[1]\n",
      " [2]\n",
      " [3]], Shape: (3, 1)\n"
     ]
    }
   ],
   "source": [
    "# Extra Code\n",
    "\n",
    "# Numpy indexing https://numpy.org/doc/stable/user/basics.indexing.html\n",
    "\n",
    "# On transposing\n",
    "row_vector_1d = np.array([1, 2, 3])\n",
    "print(f\"Original 1D array: {row_vector_1d}, Shape: {row_vector_1d.shape}\")\n",
    "\n",
    "# Convert to a 2D column vector\n",
    "column_vector_2d = row_vector_1d[:, np.newaxis]\n",
    "print(f\"Column vector (using newaxis): {column_vector_2d}, Shape: {column_vector_2d.shape}\")\n",
    "\n",
    "# You can then transpose this 2D column vector to a 2D row vector\n",
    "row_vector_2d_from_column = column_vector_2d.T\n",
    "print(f\"Row vector (transposed from column): {row_vector_2d_from_column}, Shape: {row_vector_2d_from_column.shape}\")\n",
    "\n",
    "row_vector_2d = np.array([[1, 2, 3]])\n",
    "print(f\"Original 2D row vector: {row_vector_2d}, Shape: {row_vector_2d.shape}\")\n",
    "\n",
    "# Using the .T attribute\n",
    "column_vector_from_T = row_vector_2d.T\n",
    "print(f\"Transposed using .T: {column_vector_from_T}, Shape: {column_vector_from_T.shape}\")\n",
    "\n",
    "# Using np.transpose() function\n",
    "column_vector_from_func = np.transpose(row_vector_2d)\n",
    "print(f\"Transposed using np.transpose(): {column_vector_from_func}, Shape: {column_vector_from_func.shape}\")"
   ]
  },
  {
   "cell_type": "markdown",
   "id": "2715b766",
   "metadata": {
    "vscode": {
     "languageId": "latex"
    }
   },
   "source": [
    "## Norms\n",
    "\n",
    "Consider as the vector $v = [1, 2, 3]$.\n",
    "\n",
    "### 1. L1 Norm (Manhattan Norm / Taxicab Norm)\n",
    "\n",
    "The L1 norm is the sum of the absolute values of the vector's components.\n",
    "\n",
    "* **Formula:** $\\|v\\|_1 = \\sum_{i=1}^{n} |v_i|$\n",
    "\n",
    "* **Calculation for $v = [1, 2, 3]$:**\n",
    "    $\\|v\\|_1 = |1| + |2| + |3|$\n",
    "    $\\|v\\|_1 = 1 + 2 + 3$\n",
    "    $\\|v\\|_1 = 6$\n",
    "\n",
    "### 2. L2 Norm (Euclidean Norm)\n",
    "\n",
    "The L2 norm is the square root of the sum of the squared components. This is the most common norm and represents the standard straight-line distance.\n",
    "\n",
    "* **Formula:** $\\|v\\|_2 = \\sqrt{\\sum_{i=1}^{n} v_i^2}$\n",
    "\n",
    "* **Calculation for $v = [1, 2, 3]$:**\n",
    "    $\\|v\\|_2 = \\sqrt{1^2 + 2^2 + 3^2}$\n",
    "    $\\|v\\|_2 = \\sqrt{1 + 4 + 9}$\n",
    "    $\\|v\\|_2 = \\sqrt{14}$\n",
    "    $\\|v\\|_2 \\approx 3.742$\n",
    "\n",
    "### 3. L-infinity Norm (Maximum Norm / Chebyshev Norm)\n",
    "\n",
    "The L-infinity norm is the maximum absolute value among the vector's components.\n",
    "\n",
    "* **Formula:** $\\|v\\|_\\infty = \\max_{i} |v_i|$\n",
    "\n",
    "* **Calculation for $v = [1, 2, 3]$:**\n",
    "    $\\|v\\|_\\infty = \\max(|1|, |2|, |3|)$\n",
    "    $\\|v\\|_\\infty = \\max(1, 2, 3)$\n",
    "    $\\|v\\|_\\infty = 3$\n",
    "\n",
    "So, for the vector $[1, 2, 3]$:\n",
    "* L1 Norm = 6\n",
    "* L2 Norm = $\\sqrt{14} \\approx 3.742$\n",
    "* L-infinity Norm = 3"
   ]
  },
  {
   "cell_type": "markdown",
   "id": "2eb3e010",
   "metadata": {},
   "source": []
  },
  {
   "cell_type": "code",
   "execution_count": 50,
   "id": "7c705e2e",
   "metadata": {},
   "outputs": [
    {
     "data": {
      "text/plain": [
       "np.int64(70)"
      ]
     },
     "execution_count": 50,
     "metadata": {},
     "output_type": "execute_result"
    }
   ],
   "source": [
    "# Dot Product\n",
    "a = np.array([1,2,3,4])\n",
    "b = np.array([5,6,7,8])\n",
    "np.dot(a,b)"
   ]
  },
  {
   "cell_type": "code",
   "execution_count": null,
   "id": "d71d1eeb",
   "metadata": {},
   "outputs": [],
   "source": []
  }
 ],
 "metadata": {
  "kernelspec": {
   "display_name": ".venv",
   "language": "python",
   "name": "python3"
  },
  "language_info": {
   "codemirror_mode": {
    "name": "ipython",
    "version": 3
   },
   "file_extension": ".py",
   "mimetype": "text/x-python",
   "name": "python",
   "nbconvert_exporter": "python",
   "pygments_lexer": "ipython3",
   "version": "3.9.6"
  }
 },
 "nbformat": 4,
 "nbformat_minor": 5
}
